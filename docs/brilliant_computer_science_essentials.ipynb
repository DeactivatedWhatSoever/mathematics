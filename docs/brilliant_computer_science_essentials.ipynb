{
 "cells": [
  {
   "cell_type": "markdown",
   "metadata": {},
   "source": [
    "# Brilliant Computer Science Essentials\n",
    "* Tools of Computer Science\n",
    "* Computational Problem Solving\n",
    "* Algorithmic Thinking\n",
    "\n",
    "It's all about the basics. Everyone says \"Back to the Basic\", but it's best to always study the basics. The basics will make you think more clearly, and get the job done. After all, the simplest solutions will be the best solutions. It's because of how everyone will now it with intuition."
   ]
  },
  {
   "cell_type": "markdown",
   "metadata": {},
   "source": [
    "# Tools of Computer Science\n",
    "* Making Decisions\n",
    "* Searching for Solutions\n",
    "* Thinking with Graphs\n",
    "* Writing Programs\n",
    "\n",
    "## Making Decisions\n",
    "The tools of computer science. It actually was really interesting to see that there were two frameworks. One was making decisions, and the other one was finding solutions. First, decision making is about making decision trees. You'll keep on adding things to that tree until it gives you all the possibilities. But still, we need to have this skill at the start, before we give it to machine learning. Machine learning is used to automate these decision tree making procedures. \n",
    "\n",
    "## Searching for Solutions\n",
    "Brute-force technique. This is actually finding out all the possibilities we can. Brute-forcing probably is the most easiest solution to all your problems. All you need to do is just match the problem you have and do that for all possibilities. From here, you'll learn how to find solutions better than brute-force. But the thing is, you have to know more about this and find out space, and speed. \n",
    "\n",
    "## Thinking with Graphs\n",
    "Vortexes and edges. That's what graphs are. You have to think of certain problems as graphs. Of course graphs are one of the data structures that you need to think with. \n",
    "Remember, if there are more than two vortexes with odd edges, a path cannot occur!\n",
    "\n",
    "## Writing Programs\n",
    "Programs are instructions. An interface would be our instructions, and the implementation will be an algorithm. But there are times when algorithms make algorithms! Which is absolutely cool. But whatever you think, programs are instructions. That's the most basic thing you can explain what a computer program is. \n"
   ]
  }
 ],
 "metadata": {
  "kernelspec": {
   "display_name": "Python 3",
   "language": "python",
   "name": "python3"
  },
  "language_info": {
   "codemirror_mode": {
    "name": "ipython",
    "version": 3
   },
   "file_extension": ".py",
   "mimetype": "text/x-python",
   "name": "python",
   "nbconvert_exporter": "python",
   "pygments_lexer": "ipython3",
   "version": "3.6.8"
  }
 },
 "nbformat": 4,
 "nbformat_minor": 2
}
