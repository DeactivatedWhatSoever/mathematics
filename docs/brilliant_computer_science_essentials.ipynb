{
 "cells": [
  {
   "cell_type": "markdown",
   "metadata": {},
   "source": [
    "# Brilliant Computer Science Essentials\n",
    "* Tools of Computer Science\n",
    "* Computational Problem Solving\n",
    "* Algorithmic Thinking\n",
    "\n",
    "It's all about the basics. Everyone says \"Back to the Basic\", but it's best to always study the basics. The basics will make you think more clearly, and get the job done. After all, the simplest solutions will be the best solutions. It's because of how everyone will now it with intuition."
   ]
  }
 ],
 "metadata": {
  "kernelspec": {
   "display_name": "Python 3",
   "language": "python",
   "name": "python3"
  },
  "language_info": {
   "codemirror_mode": {
    "name": "ipython",
    "version": 3
   },
   "file_extension": ".py",
   "mimetype": "text/x-python",
   "name": "python",
   "nbconvert_exporter": "python",
   "pygments_lexer": "ipython3",
   "version": "3.6.8"
  }
 },
 "nbformat": 4,
 "nbformat_minor": 2
}
