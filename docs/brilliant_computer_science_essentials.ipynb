{
 "cells": [
  {
   "cell_type": "markdown",
   "metadata": {},
   "source": [
    "# Brilliant Computer Science Essentials\n",
    "* Tools of Computer Science\n",
    "* Computational Problem Solving\n",
    "* Algorithmic Thinking\n",
    "\n",
    "It's all about the basics. Everyone says \"Back to the Basic\", but it's best to always study the basics. The basics will make you think more clearly, and get the job done. After all, the simplest solutions will be the best solutions. It's because of how everyone will now it with intuition."
   ]
  },
  {
   "cell_type": "markdown",
   "metadata": {},
   "source": [
    "# Tools of Computer Science\n",
    "* Making Decisions\n",
    "* Searching for Solutions\n",
    "* Thinking with Graphs\n",
    "* Writing Programs\n",
    "\n",
    "## Making Decisions\n",
    "The tools of computer science. It actually was really interesting to see that there were two frameworks. One was making decisions, and the other one was finding solutions. First, decision making is about making decision trees. You'll keep on adding things to that tree until it gives you all the possibilities. But still, we need to have this skill at the start, before we give it to machine learning. Machine learning is used to automate these decision tree making procedures. \n",
    "\n",
    "## Searching for Solutions\n",
    "Brute-force technique. This is actually finding out all the possibilities we can. Brute-forcing probably is the most easiest solution to all your problems. All you need to do is just match the problem you have and do that for all possibilities. From here, you'll learn how to find solutions better than brute-force. But the thing is, you have to know more about this and find out space, and speed. \n",
    "\n",
    "## Thinking with Graphs\n",
    "Vortexes and edges. That's what graphs are. You have to think of certain problems as graphs. Of course graphs are one of the data structures that you need to think with. \n",
    "Remember, if there are more than two vortexes with odd edges, a path cannot occur!\n",
    "\n",
    "## Writing Programs\n",
    "Programs are instructions. An interface would be our instructions, and the implementation will be an algorithm. But there are times when algorithms make algorithms! Which is absolutely cool. But whatever you think, programs are instructions. That's the most basic thing you can explain what a computer program is. \n"
   ]
  },
  {
   "cell_type": "markdown",
   "metadata": {},
   "source": [
    "# Computational Problem Solving\n",
    "* Parallelism\n",
    "* Order and Search\n",
    "* Resource Tradeoffs\n",
    "* Abstraction\n",
    "* Interfaces\n",
    "\n",
    "## Parallelism\n",
    "* The most common kind of parallelism is splitting up a problem and assigning it to different workers.\n",
    "* If you can't use parallelism on every part of a problem, adding more and more workers may not help you very much.\n",
    "* When you need to work on different problems at the same time, it can be useful to use pipeline parallelism.\n",
    "* When different tasks need exclusive access to a single shared resource in an unpredictable order, you are dealing with concurrency.\n",
    "* Concurrency and parallelism show up in many of the same places, but they are different ideas.\n",
    "\n",
    "Parallelism: Doing the same thing but splitting it up into pieces!\n",
    "Concurrency: When a lot of people come for the same resource!\n",
    "Pipeline Parallelism: Think about car assembly. The car gets assembled in the right time and the right place. This is also really important in computer graphics and you can see a lot of action over there.\n",
    "\n",
    "## Order and Search\n",
    "It was all about binary search. Binary search is the fastest way to go, but it has to be sorted first. We all talk about this. And also indexes. If we had an index of something, it would only take a fraction. But still, you'd have to have a lot of storage to actually service it. \n",
    "\n",
    "## Resource Tradeoffs\n",
    "I learned that the most important thing is actually time! The tradeoffs we get are space and time. The more space we have, the more we can do at once. Space can be bought by money, but time can't be bought by money. We need to figure out the tradeoffs and try to make it faster than ever. Because most of the companies can afford the space, but they can't afford the time.\n",
    "\n",
    "## Abstraction\n",
    "It's about dividing things. Extracting the common factor of what you're looking at. Because of abstractions, you can see a group of people as one function. The bigger the scope, the more indirectional you become. It would be nice if you could ask something directively to everyone, but that'll be really hard since you can't do that. You have limited time, it's hard to know what everyone does. Only small companies or groups can do that. If you're in the white house, you won't be able to do that. With abstraction, you can see a lot of individual things into one if you group them well.\n",
    "\n",
    "## Interfaces\n",
    "Interfaces and implementations is what we have here. Interfaces are things that we have for communication. If the way we communicate are the same, the interface, then it won't be hard for us to execute something. But an interface can have different implementations. I can call you. But you can call with an app, a phone, or anything else. The interface of `calling` is the same, but the implementations are different. Interfaces are there for you to unify the way you communicate with another component.\n"
   ]
  }
 ],
 "metadata": {
  "kernelspec": {
   "display_name": "Python 3",
   "language": "python",
   "name": "python3"
  },
  "language_info": {
   "codemirror_mode": {
    "name": "ipython",
    "version": 3
   },
   "file_extension": ".py",
   "mimetype": "text/x-python",
   "name": "python",
   "nbconvert_exporter": "python",
   "pygments_lexer": "ipython3",
   "version": "3.6.8"
  }
 },
 "nbformat": 4,
 "nbformat_minor": 2
}
