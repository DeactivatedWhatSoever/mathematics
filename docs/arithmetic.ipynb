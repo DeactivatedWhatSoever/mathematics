{
 "cells": [
  {
   "cell_type": "markdown",
   "metadata": {},
   "source": [
    "# Arithmetic\n",
    "It's just the start of math. So I'll just go for it. Feels nice to actually learn it all in English. Feels like starting school again. Destroying all the regrets of my childhood.\n",
    "* Addition and subtraction\n",
    "* Multiplication and division\n",
    "* Negative numbers\n",
    "* Fractions\n",
    "* Decimals\n"
   ]
  }
 ],
 "metadata": {
  "kernelspec": {
   "display_name": "Python 3",
   "language": "python",
   "name": "python3"
  },
  "language_info": {
   "codemirror_mode": {
    "name": "ipython",
    "version": 3
   },
   "file_extension": ".py",
   "mimetype": "text/x-python",
   "name": "python",
   "nbconvert_exporter": "python",
   "pygments_lexer": "ipython3",
   "version": "3.6.8"
  }
 },
 "nbformat": 4,
 "nbformat_minor": 2
}
