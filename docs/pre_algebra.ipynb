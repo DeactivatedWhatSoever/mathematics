{
 "cells": [
  {
   "cell_type": "markdown",
   "metadata": {},
   "source": [
    "# Pre-Algebra\n",
    "This looked like the start of maths of what I really needed to know. Just learn all this stuff and I'll get to know how to do all the advanced arithmetics and all the important things that I really need to think mathematically. Also, I really wanted to know the ratio part. Percentage and all that. Because of that, I'll be able to learn probability and statistics in a better understanding.\n"
   ]
  }
 ],
 "metadata": {
  "kernelspec": {
   "display_name": "Python 3",
   "language": "python",
   "name": "python3"
  },
  "language_info": {
   "codemirror_mode": {
    "name": "ipython",
    "version": 3
   },
   "file_extension": ".py",
   "mimetype": "text/x-python",
   "name": "python",
   "nbconvert_exporter": "python",
   "pygments_lexer": "ipython3",
   "version": "3.6.8"
  }
 },
 "nbformat": 4,
 "nbformat_minor": 2
}
