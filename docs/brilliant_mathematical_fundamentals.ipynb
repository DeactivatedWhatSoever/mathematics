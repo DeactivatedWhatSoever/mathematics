{
 "cells": [
  {
   "cell_type": "markdown",
   "metadata": {},
   "source": [
    "# Brilliant Mathematical Fundamentals\n",
    "I want to learn the mathematical fundamentals over here. Actually know how to think logically, and mathematically. \n",
    "* Introduction\n",
    "* Digits & Divisability\n",
    "* Patterns & Variables\n",
    "* Mathematical Logic\n",
    "* Ratios & Percentages\n",
    "* Probability\n",
    "* When It Gets Tough"
   ]
  },
  {
   "cell_type": "markdown",
   "metadata": {},
   "source": [
    "# Introduction\n",
    "* Introduction\n",
    "* Cryptograms\n",
    "* Is It Possible?\n",
    "* Challenge Set\n",
    "\n",
    "Summary:\n",
    "1. Finding examples\n",
    "2. Trusting intuition\n",
    "3. Finding a quick strategy for organizing thoughts\n",
    "4. Simplifying the problem until it seemed easy to find an answer"
   ]
  }
 ],
 "metadata": {
  "kernelspec": {
   "display_name": "Python 3",
   "language": "python",
   "name": "python3"
  },
  "language_info": {
   "codemirror_mode": {
    "name": "ipython",
    "version": 3
   },
   "file_extension": ".py",
   "mimetype": "text/x-python",
   "name": "python",
   "nbconvert_exporter": "python",
   "pygments_lexer": "ipython3",
   "version": "3.6.8"
  }
 },
 "nbformat": 4,
 "nbformat_minor": 2
}
